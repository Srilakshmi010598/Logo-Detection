{
 "cells": [
  {
   "cell_type": "code",
   "execution_count": null,
   "metadata": {},
   "outputs": [],
   "source": [
    "import numpy as np\n",
    "import cv2\n",
    "\n",
    "#read the input image and resize it\n",
    "inputImage=cv2.imread('SET ME') #set the image input filename here\n",
    "inputImage = cv2.resize(inputImage,(400,500))\n",
    "#convert the input RGB image to HSV Cylindrical Coordinates\n",
    "hsvImage=cv2.cvtColor(inputImage,cv2.COLOR_BGR2HSV)\n",
    "cv2.imshow('HSV Image',hsvImage)\n",
    "cv2.waitKey(0)"
   ]
  },
  {
   "cell_type": "code",
   "execution_count": null,
   "metadata": {},
   "outputs": [],
   "source": [
    "#Colored Logos in the page can be viewed in terms of its brightness. So to get the saturation Image, split HSV Image obtained above\n",
    "hue, saturationImage, value=cv2.split(hsvImage)\n",
    "cv2.imshow('Saturation Image',saturationImage)\n",
    "cv2.waitKey(0)"
   ]
  },
  {
   "cell_type": "code",
   "execution_count": null,
   "metadata": {},
   "outputs": [],
   "source": [
    "#To binarize the above obtained saturated Image, apply threshold. OTSU Threshold is used here as it adapts the threshold level according to image. \n",
    "retval, thresholdImage = cv2.threshold(saturationImage,0,255, cv2.THRESH_BINARY + cv2.THRESH_OTSU)\n",
    "cv2.imshow('Thresholded Image', thresholdImage)\n",
    "cv2.waitKey(0)"
   ]
  },
  {
   "cell_type": "code",
   "execution_count": null,
   "metadata": {},
   "outputs": [],
   "source": [
    "#Detect contours to detect the logo\n",
    "contours, hier = cv2.findContours(thresholdImage,cv2.RETR_LIST,cv2.CHAIN_APPROX_SIMPLE)\n",
    "arr=[]\n",
    "flag=1\n",
    "\n",
    "for cnt in contours:\n",
    "    if 10<cv2.contourArea(cnt)<10000:#defining the contour size for detection\n",
    "        (x,y,w,h) = cv2.boundingRect(cnt)\n",
    "        arr.append((x,y))\n",
    "        arr.append((x+w,y+h))\n",
    "        #add all bounding rectangles of contours to array\n",
    "\n",
    "if (len(arr)>2):\n",
    "    for i in range(0,len(arr),2):\n",
    "        for j in range(0,len(arr),2):\n",
    "            temparr=[]\n",
    "            if(arr[i][0]>=arr[j+1][0]) or (arr[i+1][0]<=arr[j][0]) or (arr[i+1][1]<=arr[j][1]) or (arr[i][1]>=arr[j+1][1]):\n",
    "                #incase there's no intersection between bounding rectangles:\n",
    "                flag=0\n",
    "            else:\n",
    "                #if there's intersection between two bounding rectangles, find union of those rectangle and draw a new rectangle\n",
    "                flag=1\n",
    "                temparr.append(arr[i])\n",
    "                temparr.append(arr[i+1])\n",
    "                temparr.append(arr[j])\n",
    "                temparr.append(arr[j+1])\n",
    "                x,y,w,h = cv2.boundingRect(np.asarray(temparr))\n",
    "                cv2.rectangle(inputImage,(x,y),(x+w,y+h),(0,0,255),1)\n",
    "                \n",
    "        if(flag==0):\n",
    "            #incase there has been no intersection with respect to this rectangle, draw that rectangle\n",
    "            cv2.rectangle(inputImage,arr[i],arr[i+1],(0,0,255),1)\n",
    "    \n",
    "        \n",
    "cv2.imshow('IMG',inputImage)\n",
    "cv2.waitKey(0)"
   ]
  },
  {
   "cell_type": "code",
   "execution_count": null,
   "metadata": {},
   "outputs": [],
   "source": [
    "#save the detection as a separate Image\n",
    "cv2.imwrite(\"outputImage.jpg\", inputImage)\n"
   ]
  },
  {
   "cell_type": "code",
   "execution_count": null,
   "metadata": {},
   "outputs": [],
   "source": []
  }
 ],
 "metadata": {
  "kernelspec": {
   "display_name": "Python 3",
   "language": "python",
   "name": "python3"
  },
  "language_info": {
   "codemirror_mode": {
    "name": "ipython",
    "version": 3
   },
   "file_extension": ".py",
   "mimetype": "text/x-python",
   "name": "python",
   "nbconvert_exporter": "python",
   "pygments_lexer": "ipython3",
   "version": "3.7.6"
  }
 },
 "nbformat": 4,
 "nbformat_minor": 4
}
